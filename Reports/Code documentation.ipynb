{
 "cells": [
  {
   "cell_type": "markdown",
   "metadata": {},
   "source": [
    "# Comprehensive Exploratory Data Analysis (EDA) Report\n",
    "\n",
    "## Introduction\n",
    "\n",
    "This report provides a detailed exploratory data analysis (EDA) of the given dataset. The primary objectives of this EDA are to:\n",
    "\n",
    "- Understand the underlying structure of the data.\n",
    "- Identify patterns, anomalies, and relationships within the dataset.\n",
    "- Prepare the data for further modeling by cleaning and transforming it.\n",
    "\n",
    "We will cover various aspects of the EDA process, including data loading, data cleaning, univariate, bivariate, and multivariate analysis, and Principal Component \n",
    "Analysis (PCA).\n",
    "\n",
    "## Core Feature\n",
    "In the duration  of our project, our primary goal has been making the processes \n",
    "MODULAR, and FUNCTIONALISED, focusing on catering to the entire dataset at any given step. We aim to standardise the process through this technique\n",
    "\n",
    "## Data Loading\n",
    "\n",
    "In this section, we will load the dataset and perform an initial examination to understand its structure and basic characteristics."
   ]
  },
  {
   "cell_type": "markdown",
   "metadata": {},
   "source": [
    "import pandas as pd\n",
    "df1 = pd.read_csv('File Path')\n"
   ]
  },
  {
   "cell_type": "markdown",
   "metadata": {},
   "source": [
    "## Data Cleaning\n",
    "\n",
    "Data cleaning is a crucial step to ensure the quality of the dataset. In this section, we will handle missing values and detect and treat outliers.\n",
    "\n",
    "### Null Handling\n",
    "\n",
    "We will address any missing values in the dataset using appropriate strategies such as imputation , using various techniques, focusing on maximizing the quality of the data"
   ]
  },
  {
   "cell_type": "code",
   "execution_count": null,
   "metadata": {
    "vscode": {
     "languageId": "plaintext"
    }
   },
   "outputs": [],
   "source": []
  },
  {
   "cell_type": "markdown",
   "metadata": {},
   "source": [
    "### Outlier Handling\n",
    "\n",
    "We will identify outliers using statistical methods such as the Interquartile Range (IQR) and Z-score and decide on appropriate treatment methods to handle them."
   ]
  },
  {
   "cell_type": "code",
   "execution_count": null,
   "metadata": {
    "vscode": {
     "languageId": "plaintext"
    }
   },
   "outputs": [],
   "source": []
  },
  {
   "cell_type": "markdown",
   "metadata": {},
   "source": [
    "## Analysis\n",
    "In our project we have chosen to analyse datasets in two phases, one where we analyse them based off of their colums , and the second, where we analyse them after using the technique of Principal Component analysis."
   ]
  }
 ],
 "metadata": {
  "language_info": {
   "name": "python"
  }
 },
 "nbformat": 4,
 "nbformat_minor": 2
}
